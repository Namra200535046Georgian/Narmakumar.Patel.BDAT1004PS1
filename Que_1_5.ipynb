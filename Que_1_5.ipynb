{
 "cells": [
  {
   "cell_type": "markdown",
   "id": "18648820",
   "metadata": {},
   "source": [
    "# Question 1"
   ]
  },
  {
   "cell_type": "code",
   "execution_count": 1,
   "id": "e7cd403e",
   "metadata": {},
   "outputs": [
    {
     "data": {
      "text/html": [
       "\r\n",
       "<div>\r\n",
       "    <div id='dotnet-interactive-this-cell-29184.Microsoft.DotNet.Interactive.Http.HttpPort' style='display: none'>\r\n",
       "        The below script needs to be able to find the current output cell; this is an easy method to get it.\r\n",
       "    </div>\r\n",
       "    <script type='text/javascript'>\r\n",
       "async function probeAddresses(probingAddresses) {\r\n",
       "    function timeout(ms, promise) {\r\n",
       "        return new Promise(function (resolve, reject) {\r\n",
       "            setTimeout(function () {\r\n",
       "                reject(new Error('timeout'))\r\n",
       "            }, ms)\r\n",
       "            promise.then(resolve, reject)\r\n",
       "        })\r\n",
       "    }\r\n",
       "\r\n",
       "    if (Array.isArray(probingAddresses)) {\r\n",
       "        for (let i = 0; i < probingAddresses.length; i++) {\r\n",
       "\r\n",
       "            let rootUrl = probingAddresses[i];\r\n",
       "\r\n",
       "            if (!rootUrl.endsWith('/')) {\r\n",
       "                rootUrl = `${rootUrl}/`;\r\n",
       "            }\r\n",
       "\r\n",
       "            try {\r\n",
       "                let response = await timeout(1000, fetch(`${rootUrl}discovery`, {\r\n",
       "                    method: 'POST',\r\n",
       "                    cache: 'no-cache',\r\n",
       "                    mode: 'cors',\r\n",
       "                    timeout: 1000,\r\n",
       "                    headers: {\r\n",
       "                        'Content-Type': 'text/plain'\r\n",
       "                    },\r\n",
       "                    body: probingAddresses[i]\r\n",
       "                }));\r\n",
       "\r\n",
       "                if (response.status == 200) {\r\n",
       "                    return rootUrl;\r\n",
       "                }\r\n",
       "            }\r\n",
       "            catch (e) { }\r\n",
       "        }\r\n",
       "    }\r\n",
       "}\r\n",
       "\r\n",
       "function loadDotnetInteractiveApi() {\r\n",
       "    probeAddresses([\"http://192.168.220.1:2048/\", \"http://192.168.14.1:2048/\", \"http://10.0.0.178:2048/\", \"http://127.0.0.1:2048/\"])\r\n",
       "        .then((root) => {\r\n",
       "        // use probing to find host url and api resources\r\n",
       "        // load interactive helpers and language services\r\n",
       "        let dotnetInteractiveRequire = require.config({\r\n",
       "        context: '29184.Microsoft.DotNet.Interactive.Http.HttpPort',\r\n",
       "                paths:\r\n",
       "            {\r\n",
       "                'dotnet-interactive': `${root}resources`\r\n",
       "                }\r\n",
       "        }) || require;\r\n",
       "\r\n",
       "            window.dotnetInteractiveRequire = dotnetInteractiveRequire;\r\n",
       "\r\n",
       "            window.configureRequireFromExtension = function(extensionName, extensionCacheBuster) {\r\n",
       "                let paths = {};\r\n",
       "                paths[extensionName] = `${root}extensions/${extensionName}/resources/`;\r\n",
       "                \r\n",
       "                let internalRequire = require.config({\r\n",
       "                    context: extensionCacheBuster,\r\n",
       "                    paths: paths,\r\n",
       "                    urlArgs: `cacheBuster=${extensionCacheBuster}`\r\n",
       "                    }) || require;\r\n",
       "\r\n",
       "                return internalRequire\r\n",
       "            };\r\n",
       "        \r\n",
       "            dotnetInteractiveRequire([\r\n",
       "                    'dotnet-interactive/dotnet-interactive'\r\n",
       "                ],\r\n",
       "                function (dotnet) {\r\n",
       "                    dotnet.init(window);\r\n",
       "                },\r\n",
       "                function (error) {\r\n",
       "                    console.log(error);\r\n",
       "                }\r\n",
       "            );\r\n",
       "        })\r\n",
       "        .catch(error => {console.log(error);});\r\n",
       "    }\r\n",
       "\r\n",
       "// ensure `require` is available globally\r\n",
       "if ((typeof(require) !==  typeof(Function)) || (typeof(require.config) !== typeof(Function))) {\r\n",
       "    let require_script = document.createElement('script');\r\n",
       "    require_script.setAttribute('src', 'https://cdnjs.cloudflare.com/ajax/libs/require.js/2.3.6/require.min.js');\r\n",
       "    require_script.setAttribute('type', 'text/javascript');\r\n",
       "    \r\n",
       "    \r\n",
       "    require_script.onload = function() {\r\n",
       "        loadDotnetInteractiveApi();\r\n",
       "    };\r\n",
       "\r\n",
       "    document.getElementsByTagName('head')[0].appendChild(require_script);\r\n",
       "}\r\n",
       "else {\r\n",
       "    loadDotnetInteractiveApi();\r\n",
       "}\r\n",
       "\r\n",
       "    </script>\r\n",
       "</div>"
      ]
     },
     "metadata": {},
     "output_type": "display_data"
    }
   ],
   "source": [
    "// Question 1 - What data type is each of the following?\n",
    "public static void question_1()\n",
    "{\n",
    "    Console.WriteLine(\"Q.1 Data Types \\n\");\n",
    "    object[] objects = { 5, 5.0, 5>1, '5', 5 * 2, '5' * 2, '5' + '2', 5 / 2, 5 % 2, new int[] { 5, 2, 1 }, 5 == 3, Math.PI };\n",
    "    foreach (var item in objects)\n",
    "    {\n",
    "        getDataType(item);\n",
    "    }\n",
    "}\n",
    "//To get data type of object\n",
    "public static void getDataType(object o)\n",
    "{\n",
    "    // Printing the result with object\n",
    "    Console.WriteLine(\"\\t\"+o +\" - \"+ o.GetType().Name);\n",
    "}\n"
   ]
  },
  {
   "cell_type": "code",
   "execution_count": 2,
   "id": "953f911b",
   "metadata": {},
   "outputs": [
    {
     "name": "stdout",
     "output_type": "stream",
     "text": [
      "Q.1 Data Types \n",
      "\n",
      "\t5 - Int32\n",
      "\t5 - Double\n",
      "\tTrue - Boolean\n",
      "\t5 - Char\n",
      "\t10 - Int32\n",
      "\t106 - Int32\n",
      "\t103 - Int32\n",
      "\t2 - Int32\n",
      "\t1 - Int32\n",
      "\tSystem.Int32[] - Int32[]\n",
      "\tFalse - Boolean\n",
      "\t3.141592653589793 - Double\n"
     ]
    }
   ],
   "source": [
    "question_1()"
   ]
  },
  {
   "cell_type": "markdown",
   "id": "074111e9",
   "metadata": {},
   "source": [
    "# Question 2"
   ]
  },
  {
   "cell_type": "code",
   "execution_count": 3,
   "id": "f0db296a",
   "metadata": {},
   "outputs": [],
   "source": [
    "// Question 2 string questions\n",
    "public static void question_2()\n",
    "{\n",
    "    string s = \"Supercalifragilisticexpialidocious\";\n",
    "    Console.WriteLine(\"\\nQ.2 : Write (and evaluate) C# expressions\");\n",
    "\n",
    "    // Question 1\n",
    "    Console.WriteLine(\"\\n\\tGiven String : \" + s);\n",
    "\n",
    "    // Question 2\n",
    "    Console.WriteLine(\"\\tA. Letters count : \" + s.Length);\n",
    "    Console.WriteLine(\"\\tB. Does given string contain 'ice' as a substring? : \"+ s.Contains(\"ice\"));\n",
    "    \n",
    "\n",
    "    // Question 3\n",
    "    List<string> words = new List<string> { \"Supercalifragilisticexpialidocious\", \"Honorificabilitudinitatibus\", \"Bababadalgharaghtakamminarronnkonn\" };\n",
    "\n",
    "    // Using SQL functions for list\n",
    "    //int maxLength = words.Max(x => x.Length);\n",
    "    //Console.WriteLine(\"\\tC. Longest words amongst given three word(s) is/are : \"+String.Join(\",\",words.Select(x=> x).Where(x=>x.Length == maxLength)));\n",
    "\n",
    "    // Initiliaze maxlength with  value 0\n",
    "    int maxLength = 0;\n",
    "\n",
    "    // Logic to get max length from all words\n",
    "    foreach(var word in words)\n",
    "    {\n",
    "        int wordLength = word.Length;\n",
    "        if(maxLength < wordLength)\n",
    "        {\n",
    "            maxLength = wordLength;\n",
    "        }\n",
    "    }\n",
    "\n",
    "    // Logic to get max length words\n",
    "    List<string> maxLengthWords = new List<string>();\n",
    "    foreach(var word in words)\n",
    "    {\n",
    "        if(word.Length == maxLength)\n",
    "        {\n",
    "            maxLengthWords.Add(word);\n",
    "        }\n",
    "    }\n",
    "\n",
    "    // Printing result, used join to format list of strings to comma seperated string\n",
    "    Console.WriteLine(\"\\tC. Longest words amongst given three word(s) is/are : \" + String.Join(\",\", maxLengthWords));\n",
    "\n",
    "    // Question 4\n",
    "\n",
    "    // Initialize array of words\n",
    "    string[] wordArr = { \"Berlioz\", \"Borodin\", \"Brian\", \"Bartok\", \"Bellini\", \"Buxtehude\", \"Bernstein\" };\n",
    "    // Using array sort function to sort an array\n",
    "    Array.Sort(wordArr);\n",
    "    // Fetching first element and printing the result\n",
    "    Console.WriteLine(\"\\tD. The First composer : \" + wordArr[0]);\n",
    "    // Fetching last element and printing the result\n",
    "    Console.WriteLine(\"\\tE. The Last composer : \" + wordArr[wordArr.Length - 1 ]);\n",
    "}"
   ]
  },
  {
   "cell_type": "code",
   "execution_count": 4,
   "id": "9817c35a",
   "metadata": {},
   "outputs": [
    {
     "name": "stdout",
     "output_type": "stream",
     "text": [
      "\n",
      "Q.2 : Write (and evaluate) C# expressions\n",
      "\n",
      "\tGiven String : Supercalifragilisticexpialidocious\n",
      "\tA. Letters count : 34\n",
      "\tB. Does given string contain 'ice' as a substring? : True\n",
      "\tC. Longest words amongst given three word(s) is/are : Supercalifragilisticexpialidocious,Bababadalgharaghtakamminarronnkonn\n",
      "\tD. The First composer : Bartok\n",
      "\tE. The Last composer : Buxtehude\n"
     ]
    }
   ],
   "source": [
    "question_2()"
   ]
  },
  {
   "cell_type": "markdown",
   "id": "3b056e71",
   "metadata": {},
   "source": [
    "# Question 3"
   ]
  },
  {
   "cell_type": "code",
   "execution_count": 5,
   "id": "743d2f44",
   "metadata": {},
   "outputs": [],
   "source": [
    "// Question 3 : function triangleArea(a,b,c)\n",
    "public static void question_3()\n",
    "{\n",
    "    // Printing the result of triangleArea function \n",
    "    Console.WriteLine(\"\\nQ.3 Implement function triangleArea(x,y,x)\\n\\tArea of triangle : \"+triangleArea(2,2,2));\n",
    "}\n",
    "public static double triangleArea(double x, double y, double z)\n",
    "{\n",
    "    // Formula for s\n",
    "    double s = (x+y+z)/2;\n",
    "    // Creating a formula usnig Math Sqrt function\n",
    "    double area = Math.Sqrt((s * (s - x) * (s - y) * (s - z)));\n",
    "    // Returns an area\n",
    "    return area;\n",
    "}"
   ]
  },
  {
   "cell_type": "code",
   "execution_count": 6,
   "id": "29e98395",
   "metadata": {},
   "outputs": [
    {
     "name": "stdout",
     "output_type": "stream",
     "text": [
      "\n",
      "Q.3 Implement function triangleArea(x,y,x)\n",
      "\tArea of triangle : 1.7320508075688772\r\n"
     ]
    }
   ],
   "source": [
    "question_3()"
   ]
  },
  {
   "cell_type": "markdown",
   "id": "71b79557",
   "metadata": {},
   "source": [
    "# Question 4"
   ]
  },
  {
   "cell_type": "code",
   "execution_count": 7,
   "id": "b56194e3",
   "metadata": {},
   "outputs": [],
   "source": [
    "// Question 4 Separate odd and even integers\n",
    "public static void question_4()\n",
    "{\n",
    "    Console.WriteLine(\"\\nQ.4 Write a program in C# Sharp to separate odd and even integers\");\n",
    "    // Empty array of integer - length 5\n",
    "    int[] numbers = new int[5];\n",
    "    Console.WriteLine(\"\\n\\tPlease enter 5 numbers : \");\n",
    "    // Asking user to input 5 numbers\n",
    "    for(int i = 1; i <= 5; i++)\n",
    "    {\n",
    "        Console.WriteLine(\"\\tNumber \" + i+ \" : \");\n",
    "        int num = Convert.ToInt32(input());\n",
    "       numbers[i-1] = num; \n",
    "    }\n",
    "    var oddNumbers = new List<int>();\n",
    "    var evenNumbers = new List<int>();\n",
    "    foreach (int i in numbers)\n",
    "    {\n",
    "        if (i % 2 == 1) oddNumbers.Add(i);\n",
    "        if (i % 2 == 0) evenNumbers.Add(i);\n",
    "    }\n",
    "    // Printing odd and even numbers using LINQ Method select and where\n",
    "    //Console.WriteLine(\"\\tOdd Numbers : \" + String.Join(\",\", numbers.Select(x => x).Where(x=>x%2 == 1)));\n",
    "    //Console.WriteLine(\"\\tEven Numbers : \" + String.Join(\",\", numbers.Select(x=> x).Where(x=>x%2 == 0)));\n",
    "\n",
    "    // String.Join function will convert list into comma seperated string \n",
    "    Console.WriteLine(\"\\tOdd Numbers : \" + String.Join(\", \",oddNumbers));\n",
    "    Console.WriteLine(\"\\tEven Numbers : \" + String.Join(\", \",evenNumbers));\n",
    "}"
   ]
  },
  {
   "cell_type": "code",
   "execution_count": 8,
   "id": "b8c5ec49",
   "metadata": {},
   "outputs": [
    {
     "name": "stdout",
     "output_type": "stream",
     "text": [
      "\n",
      "Q.4 Write a program in C# Sharp to separate odd and even integers\n",
      "\n",
      "\tPlease enter 5 numbers : \n",
      "\tNumber 1 : \n",
      "23\n",
      "\tNumber 2 : \n",
      "47\n",
      "\tNumber 3 : \n",
      "42\n",
      "\tNumber 4 : \n",
      "56\n",
      "\tNumber 5 : \n",
      "32\n",
      "\tOdd Numbers : 23, 47\n",
      "\tEven Numbers : 42, 56, 32\n"
     ]
    }
   ],
   "source": [
    "question_4()"
   ]
  },
  {
   "cell_type": "markdown",
   "id": "a72e4741",
   "metadata": {},
   "source": [
    "# Question 5"
   ]
  },
  {
   "cell_type": "code",
   "execution_count": 9,
   "id": "cefe3d14",
   "metadata": {},
   "outputs": [],
   "source": [
    "// Question 5 : A function inside(x,y,x1,y1,x2,y2)\n",
    "public static bool inside(double x, double y, double x1, double y1, double x2, double y2)\n",
    "{\n",
    "    // logic for whether point is inside rectangle or not\n",
    "    if((x > x1 && x < x2) && (y > y1 && y < y2))\n",
    "    {\n",
    "        // Given point is inside a rectangle\n",
    "        return true;\n",
    "    }\n",
    "    // Given point is not inside a rectangle\n",
    "    return false;\n",
    "}\n",
    "public static void question_5()\n",
    "{\n",
    "    Console.WriteLine(\"Q.5 Write a function inside(x,y,x1,y1,x2,y2)\");\n",
    "    // Printing output using inside function - calling function with parameters\n",
    "    Console.WriteLine(\"\\tThe point (1,1) lies in between (0.3, 0.5) and (1.1, 0.7) : \" + inside(1, 1, 0.3, 0.5, 1.1, 0.7));\n",
    "    Console.WriteLine(\"\\tThe point (1,1) lies in between (0.5, 0.2) and (1.1, 2) : \" + inside(1, 1, 0.5, 0.2, 1.1, 2));\n",
    "}"
   ]
  },
  {
   "cell_type": "code",
   "execution_count": 10,
   "id": "f4cf5883",
   "metadata": {},
   "outputs": [
    {
     "name": "stdout",
     "output_type": "stream",
     "text": [
      "Q.5 Write a function inside(x,y,x1,y1,x2,y2)\n",
      "\tThe point (1,1) lies in between (0.3, 0.5) and (1.1, 0.7) : False\n",
      "\tThe point (1,1) lies in between (0.5, 0.2) and (1.1, 2) : True\n"
     ]
    }
   ],
   "source": [
    "question_5()"
   ]
  }
 ],
 "metadata": {
  "kernelspec": {
   "display_name": ".NET (C#)",
   "language": "C#",
   "name": ".net-csharp"
  },
  "language_info": {
   "file_extension": ".cs",
   "mimetype": "text/x-csharp",
   "name": "C#",
   "pygments_lexer": "csharp",
   "version": "11.0"
  }
 },
 "nbformat": 4,
 "nbformat_minor": 5
}
