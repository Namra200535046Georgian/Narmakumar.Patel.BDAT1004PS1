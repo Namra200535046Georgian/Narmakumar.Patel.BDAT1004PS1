{
 "cells": [
  {
   "cell_type": "code",
   "execution_count": 1,
   "id": "83efef46",
   "metadata": {},
   "outputs": [],
   "source": [
    "# Question 6 \n",
    "def pig(word):\n",
    "    # Converting a word into lower case\n",
    "    word = word.lower()\n",
    "    # checking whether first character is vowel or not\n",
    "    if word[0].lower() in 'aeiou':\n",
    "        # Appending word 'way', since the first character is vowel\n",
    "        word+='way'\n",
    "    else:\n",
    "        # Extracting a first character\n",
    "        firstChar = word[0]\n",
    "        # Getting a word without first character\n",
    "        word = word[1:]\n",
    "        # appending a first character at last and word 'ay'\n",
    "        word += firstChar + 'ay'\n",
    "    # printing a final solution\n",
    "    print(word)"
   ]
  },
  {
   "cell_type": "code",
   "execution_count": 2,
   "id": "025b919d",
   "metadata": {},
   "outputs": [
    {
     "name": "stdout",
     "output_type": "stream",
     "text": [
      "appyhay\n"
     ]
    }
   ],
   "source": [
    "# Question 6 - test without vowel word\n",
    "pig('happy')"
   ]
  },
  {
   "cell_type": "code",
   "execution_count": 3,
   "id": "e0c26d4c",
   "metadata": {},
   "outputs": [
    {
     "name": "stdout",
     "output_type": "stream",
     "text": [
      "enterway\n"
     ]
    }
   ],
   "source": [
    "# Question 6 - test with vowel word\n",
    "pig('Enter')"
   ]
  },
  {
   "cell_type": "code",
   "execution_count": 4,
   "id": "6b061434",
   "metadata": {},
   "outputs": [],
   "source": [
    "# Question 7\n",
    "import numpy as np\n",
    "def bldCount(fileName):\n",
    "    # open given file from same folder\n",
    "    file = open(fileName, \"r+\")\n",
    "    # Reading file data\n",
    "    fileRead = file.read()\n",
    "    # Spliting data by space\n",
    "    bloodGroups = fileRead.split(\" \")\n",
    "    # Given blood groups\n",
    "    for i in bloodGroups :\n",
    "        if i.lower() not in ['a', 'b', 'o', 'ab', 'oo']:\n",
    "            bloodGroups.remove(i)\n",
    "    # getting unique blood groups from text file\n",
    "    distinctGroups = np.unique(bloodGroups)\n",
    "    # Getting and printing count of bloodgroups \n",
    "    for i in distinctGroups:\n",
    "        print('There are ' + str(bloodGroups.count(i)) + ' patients of blood type '+ i)"
   ]
  },
  {
   "cell_type": "code",
   "execution_count": 5,
   "id": "ae4aab4d",
   "metadata": {},
   "outputs": [
    {
     "name": "stdout",
     "output_type": "stream",
     "text": [
      "There are 15 patients of blood type A\n",
      "There are 13 patients of blood type AB\n",
      "There are 1 patients of blood type B\n",
      "There are 15 patients of blood type O\n"
     ]
    }
   ],
   "source": [
    "# checking bloodtype1.txt file\n",
    "bldCount(\"bloodtype1.txt\")"
   ]
  },
  {
   "cell_type": "code",
   "execution_count": 6,
   "id": "0ad4a1ba",
   "metadata": {},
   "outputs": [],
   "source": [
    "# Question 8\n",
    "import pandas as pd\n",
    "import csv\n",
    "\n",
    "# Creating function to change the currency \n",
    "def curconv(currency, amount):\n",
    "    data = []\n",
    "    # Reading the file\n",
    "    with open('currencies.txt', 'r') as file:\n",
    "        # Converting text data into dataset format\n",
    "        reader = csv.reader(file, delimiter='\\t')\n",
    "        for row in reader:\n",
    "            data.append(row)\n",
    "    df = pd.DataFrame(data)\n",
    "    # Getting data of a particular row\n",
    "    currCheck = df[0] == currency\n",
    "    exchangeRate = df[currCheck].values[0]\n",
    "    # printign output - converting currency to asked currency\n",
    "    print(\"Chosen currency is of \"+ exchangeRate[2] + \"(\"+ exchangeRate[0] + \")(Exchange Rate - \"+ exchangeRate[1]+\")\")\n",
    "    print(float(exchangeRate[1]) * float(amount))"
   ]
  },
  {
   "cell_type": "code",
   "execution_count": 7,
   "id": "403aadb1",
   "metadata": {},
   "outputs": [
    {
     "name": "stdout",
     "output_type": "stream",
     "text": [
      "Chosen currency is of Euro(EUR)(Exchange Rate - 1.2296544)\n",
      "122.96544\n"
     ]
    }
   ],
   "source": [
    "# Test the function \n",
    "curconv('EUR', 100)"
   ]
  },
  {
   "cell_type": "code",
   "execution_count": 8,
   "id": "4365ec53",
   "metadata": {},
   "outputs": [
    {
     "ename": "TypeError",
     "evalue": "unsupported operand type(s) for +: 'int' and 'str'",
     "output_type": "error",
     "traceback": [
      "\u001b[1;31m---------------------------------------------------------------------------\u001b[0m",
      "\u001b[1;31mTypeError\u001b[0m                                 Traceback (most recent call last)",
      "Input \u001b[1;32mIn [8]\u001b[0m, in \u001b[0;36m<cell line: 3>\u001b[1;34m()\u001b[0m\n\u001b[0;32m      1\u001b[0m \u001b[38;5;66;03m# Question 9\u001b[39;00m\n\u001b[0;32m      2\u001b[0m \u001b[38;5;66;03m# 1. TypeError - Adding incompatible variables\u001b[39;00m\n\u001b[1;32m----> 3\u001b[0m \u001b[38;5;241;43m6\u001b[39;49m\u001b[43m \u001b[49m\u001b[38;5;241;43m+\u001b[39;49m\u001b[43m \u001b[49m\u001b[38;5;124;43m'\u001b[39;49m\u001b[38;5;124;43ma\u001b[39;49m\u001b[38;5;124;43m'\u001b[39;49m\n",
      "\u001b[1;31mTypeError\u001b[0m: unsupported operand type(s) for +: 'int' and 'str'"
     ]
    }
   ],
   "source": [
    "# Question 9\n",
    "# 1. TypeError - Adding incompatible variables\n",
    "6 + 'a'"
   ]
  },
  {
   "cell_type": "code",
   "execution_count": 9,
   "id": "2597ff7d",
   "metadata": {},
   "outputs": [
    {
     "ename": "IndexError",
     "evalue": "list index out of range",
     "output_type": "error",
     "traceback": [
      "\u001b[1;31m---------------------------------------------------------------------------\u001b[0m",
      "\u001b[1;31mIndexError\u001b[0m                                Traceback (most recent call last)",
      "Input \u001b[1;32mIn [9]\u001b[0m, in \u001b[0;36m<cell line: 3>\u001b[1;34m()\u001b[0m\n\u001b[0;32m      1\u001b[0m \u001b[38;5;66;03m# 2. IndexError - Index out of range\u001b[39;00m\n\u001b[0;32m      2\u001b[0m s \u001b[38;5;241m=\u001b[39m  [\u001b[38;5;241m1\u001b[39m,\u001b[38;5;241m2\u001b[39m,\u001b[38;5;241m3\u001b[39m]\n\u001b[1;32m----> 3\u001b[0m \u001b[43ms\u001b[49m\u001b[43m[\u001b[49m\u001b[38;5;241;43m3\u001b[39;49m\u001b[43m]\u001b[49m\n",
      "\u001b[1;31mIndexError\u001b[0m: list index out of range"
     ]
    }
   ],
   "source": [
    "# 2. IndexError - Index out of range\n",
    "s =  [1,2,3]\n",
    "s[3]"
   ]
  },
  {
   "cell_type": "code",
   "execution_count": 10,
   "id": "0bdb73f5",
   "metadata": {},
   "outputs": [
    {
     "ename": "ValueError",
     "evalue": "math domain error",
     "output_type": "error",
     "traceback": [
      "\u001b[1;31m---------------------------------------------------------------------------\u001b[0m",
      "\u001b[1;31mValueError\u001b[0m                                Traceback (most recent call last)",
      "Input \u001b[1;32mIn [10]\u001b[0m, in \u001b[0;36m<cell line: 3>\u001b[1;34m()\u001b[0m\n\u001b[0;32m      1\u001b[0m \u001b[38;5;66;03m# 3. ValueError - Invalid input (Out of range value for a function)\u001b[39;00m\n\u001b[0;32m      2\u001b[0m \u001b[38;5;28;01mimport\u001b[39;00m \u001b[38;5;21;01mmath\u001b[39;00m\n\u001b[1;32m----> 3\u001b[0m \u001b[43mmath\u001b[49m\u001b[38;5;241;43m.\u001b[39;49m\u001b[43msqrt\u001b[49m\u001b[43m(\u001b[49m\u001b[38;5;241;43m-\u001b[39;49m\u001b[38;5;241;43m1.0\u001b[39;49m\u001b[43m)\u001b[49m\n",
      "\u001b[1;31mValueError\u001b[0m: math domain error"
     ]
    }
   ],
   "source": [
    "# 3. ValueError - Invalid input (Out of range value for a function)\n",
    "import math\n",
    "math.sqrt(-1.0)"
   ]
  },
  {
   "cell_type": "code",
   "execution_count": 11,
   "id": "7e15a2de",
   "metadata": {},
   "outputs": [
    {
     "ename": "NameError",
     "evalue": "name 'undeclared' is not defined",
     "output_type": "error",
     "traceback": [
      "\u001b[1;31m---------------------------------------------------------------------------\u001b[0m",
      "\u001b[1;31mNameError\u001b[0m                                 Traceback (most recent call last)",
      "Input \u001b[1;32mIn [11]\u001b[0m, in \u001b[0;36m<cell line: 2>\u001b[1;34m()\u001b[0m\n\u001b[0;32m      1\u001b[0m \u001b[38;5;66;03m# 4. NameError - variable not defined error\u001b[39;00m\n\u001b[1;32m----> 2\u001b[0m \u001b[38;5;28mprint\u001b[39m(\u001b[43mundeclared\u001b[49m)\n",
      "\u001b[1;31mNameError\u001b[0m: name 'undeclared' is not defined"
     ]
    }
   ],
   "source": [
    "# 4. NameError - variable not defined error\n",
    "print(undeclared)"
   ]
  },
  {
   "cell_type": "code",
   "execution_count": 12,
   "id": "549bc4ee",
   "metadata": {},
   "outputs": [
    {
     "ename": "FileNotFoundError",
     "evalue": "[Errno 2] No such file or directory: 'unknown.txt'",
     "output_type": "error",
     "traceback": [
      "\u001b[1;31m---------------------------------------------------------------------------\u001b[0m",
      "\u001b[1;31mFileNotFoundError\u001b[0m                         Traceback (most recent call last)",
      "Input \u001b[1;32mIn [12]\u001b[0m, in \u001b[0;36m<cell line: 2>\u001b[1;34m()\u001b[0m\n\u001b[0;32m      1\u001b[0m \u001b[38;5;66;03m# 5. FileNotFoundError - File not found\u001b[39;00m\n\u001b[1;32m----> 2\u001b[0m \u001b[38;5;28;43mopen\u001b[39;49m\u001b[43m(\u001b[49m\u001b[38;5;124;43m'\u001b[39;49m\u001b[38;5;124;43munknown.txt\u001b[39;49m\u001b[38;5;124;43m'\u001b[39;49m\u001b[43m,\u001b[49m\u001b[43m \u001b[49m\u001b[38;5;124;43m\"\u001b[39;49m\u001b[38;5;124;43mr+\u001b[39;49m\u001b[38;5;124;43m\"\u001b[39;49m\u001b[43m)\u001b[49m\n",
      "\u001b[1;31mFileNotFoundError\u001b[0m: [Errno 2] No such file or directory: 'unknown.txt'"
     ]
    }
   ],
   "source": [
    "# 5. FileNotFoundError - File not found\n",
    "open('unknown.txt', \"r+\")"
   ]
  },
  {
   "cell_type": "code",
   "execution_count": 13,
   "id": "d5391498",
   "metadata": {},
   "outputs": [],
   "source": [
    "# Question 10 \n",
    "def frequencies(inputStr):\n",
    "    definedStr = 'abcdefghijklmnopqrstuvwxyz'\n",
    "    inputStr = inputStr.lower() \n",
    "    counts = []\n",
    "    for i in definedStr:\n",
    "        counts.append(inputStr.count(i))\n",
    "    print(counts)"
   ]
  },
  {
   "cell_type": "code",
   "execution_count": 14,
   "id": "cc7e683e",
   "metadata": {},
   "outputs": [
    {
     "name": "stdout",
     "output_type": "stream",
     "text": [
      "[1, 1, 1, 1, 1, 1, 1, 1, 1, 1, 1, 1, 1, 1, 1, 1, 1, 1, 1, 1, 1, 1, 1, 1, 1, 1]\n"
     ]
    }
   ],
   "source": [
    "# Test 1\n",
    "frequencies('abcdefghijklmnopqrstuvwxyz')"
   ]
  },
  {
   "cell_type": "code",
   "execution_count": 15,
   "id": "9300353f",
   "metadata": {},
   "outputs": [
    {
     "name": "stdout",
     "output_type": "stream",
     "text": [
      "[1, 1, 1, 3, 5, 1, 1, 2, 1, 0, 1, 0, 1, 2, 4, 0, 1, 2, 0, 3, 1, 0, 1, 1, 0, 0]\n"
     ]
    }
   ],
   "source": [
    "# Test 2\n",
    "frequencies('The quick red fox got bored and went home.')"
   ]
  },
  {
   "cell_type": "code",
   "execution_count": 16,
   "id": "d9e2f062",
   "metadata": {},
   "outputs": [
    {
     "name": "stdout",
     "output_type": "stream",
     "text": [
      "[1, 0, 0, 0, 1, 0, 0, 0, 0, 0, 0, 1, 0, 0, 0, 2, 0, 0, 0, 0, 0, 0, 0, 0, 0, 0]\n"
     ]
    }
   ],
   "source": [
    "# Test 3\n",
    "frequencies('Apple')"
   ]
  }
 ],
 "metadata": {
  "kernelspec": {
   "display_name": "Python 3 (ipykernel)",
   "language": "python",
   "name": "python3"
  },
  "language_info": {
   "codemirror_mode": {
    "name": "ipython",
    "version": 3
   },
   "file_extension": ".py",
   "mimetype": "text/x-python",
   "name": "python",
   "nbconvert_exporter": "python",
   "pygments_lexer": "ipython3",
   "version": "3.9.12"
  }
 },
 "nbformat": 4,
 "nbformat_minor": 5
}
